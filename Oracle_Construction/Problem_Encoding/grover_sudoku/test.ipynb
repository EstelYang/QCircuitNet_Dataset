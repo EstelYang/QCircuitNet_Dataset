{
 "cells": [
  {
   "cell_type": "code",
   "execution_count": 1,
   "metadata": {},
   "outputs": [],
   "source": [
    "from qiskit.qasm3 import load"
   ]
  },
  {
   "cell_type": "code",
   "execution_count": 3,
   "metadata": {},
   "outputs": [
    {
     "name": "stdout",
     "output_type": "stream",
     "text": [
      "     ┌──────┐┌──────┐                        ┌──────┐┌──────┐                \n",
      "q_0: ┤0     ├┤0     ├────────────────────────┤0     ├┤0     ├────────────────\n",
      "     │      ││      │┌──────┐                │      ││      │┌──────┐        \n",
      "q_1: ┤1     ├┤      ├┤0     ├────────────────┤1     ├┤      ├┤0     ├────────\n",
      "     │      ││      ││      │┌──────┐        │      ││      ││      │┌──────┐\n",
      "q_2: ┤  XOR ├┤1     ├┤      ├┤0     ├────────┤  XOR ├┤1     ├┤      ├┤0     ├\n",
      "     │      ││  XOR ││      ││      │        │      ││  XOR ││      ││      │\n",
      "q_3: ┤      ├┤      ├┤1     ├┤1     ├────────┤      ├┤      ├┤1     ├┤1     ├\n",
      "     │      ││      ││  XOR ││      │┌──────┐│      ││      ││  XOR ││      │\n",
      "q_4: ┤2     ├┤      ├┤      ├┤      ├┤0     ├┤2     ├┤      ├┤      ├┤      ├\n",
      "     └──────┘│      ││      ││  XOR ││      │└──────┘│      ││      ││  XOR │\n",
      "q_5: ────────┤2     ├┤      ├┤      ├┤1     ├────────┤2     ├┤      ├┤      ├\n",
      "             └──────┘│      ││      ││      │        └──────┘│      ││      │\n",
      "q_6: ────────────────┤2     ├┤      ├┤2 mcx ├────────────────┤2     ├┤      ├\n",
      "                     └──────┘│      ││      │                └──────┘│      │\n",
      "q_7: ────────────────────────┤2     ├┤3     ├────────────────────────┤2     ├\n",
      "                             └──────┘│      │                        └──────┘\n",
      "q_8: ────────────────────────────────┤4     ├────────────────────────────────\n",
      "                                     └──────┘                                \n"
     ]
    }
   ],
   "source": [
    "circuit = load('sudoku.qasm')\n",
    "circuit = circuit.decompose()\n",
    "print(circuit)"
   ]
  }
 ],
 "metadata": {
  "kernelspec": {
   "display_name": "qcircuitNet",
   "language": "python",
   "name": "python3"
  },
  "language_info": {
   "codemirror_mode": {
    "name": "ipython",
    "version": 3
   },
   "file_extension": ".py",
   "mimetype": "text/x-python",
   "name": "python",
   "nbconvert_exporter": "python",
   "pygments_lexer": "ipython3",
   "version": "3.12.2"
  }
 },
 "nbformat": 4,
 "nbformat_minor": 2
}
